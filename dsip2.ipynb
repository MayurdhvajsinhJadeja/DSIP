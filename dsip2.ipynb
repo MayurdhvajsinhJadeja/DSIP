{
  "nbformat": 4,
  "nbformat_minor": 0,
  "metadata": {
    "colab": {
      "provenance": [],
      "authorship_tag": "ABX9TyMiTGE398GmfRwywKARRh1b",
      "include_colab_link": true
    },
    "kernelspec": {
      "name": "python3",
      "display_name": "Python 3"
    },
    "language_info": {
      "name": "python"
    }
  },
  "cells": [
    {
      "cell_type": "markdown",
      "metadata": {
        "id": "view-in-github",
        "colab_type": "text"
      },
      "source": [
        "<a href=\"https://colab.research.google.com/github/MayurdhvajsinhJadeja/DSIP/blob/main/dsip2.ipynb\" target=\"_parent\"><img src=\"https://colab.research.google.com/assets/colab-badge.svg\" alt=\"Open In Colab\"/></a>"
      ]
    },
    {
      "cell_type": "code",
      "execution_count": null,
      "metadata": {
        "colab": {
          "base_uri": "https://localhost:8080/"
        },
        "id": "36m2BEn2Px75",
        "outputId": "2da90a86-3f11-45de-eccb-8a21c5374bc7"
      },
      "outputs": [
        {
          "output_type": "stream",
          "name": "stdout",
          "text": [
            "[ 9  9 11  5  2]\n"
          ]
        }
      ],
      "source": [
        "import numpy as np\n",
        "a=[3,2,1]\n",
        "b=[3,1,2]\n",
        "c=np.convolve(a,b)\n",
        "print(c)"
      ]
    },
    {
      "cell_type": "code",
      "source": [],
      "metadata": {
        "id": "_SBB8qh3Qk9v"
      },
      "execution_count": null,
      "outputs": []
    }
  ]
}